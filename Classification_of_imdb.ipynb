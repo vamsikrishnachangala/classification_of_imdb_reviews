{
  "nbformat": 4,
  "nbformat_minor": 0,
  "metadata": {
    "colab": {
      "name": "Classification_of_imdb.ipynb",
      "provenance": []
    },
    "kernelspec": {
      "name": "python3",
      "display_name": "Python 3"
    }
  },
  "cells": [
    {
      "cell_type": "markdown",
      "metadata": {
        "id": "WDZ1qfI7uSN9"
      },
      "source": [
        "**Classification of IMDB movies**"
      ]
    },
    {
      "cell_type": "markdown",
      "metadata": {
        "id": "Qt9Xj6ZiuO5z"
      },
      "source": [
        "Importing IMDB dataset "
      ]
    },
    {
      "cell_type": "code",
      "metadata": {
        "id": "r5UHMPlssuxG"
      },
      "source": [
        "from keras.datasets import imdb\n",
        "(train_data,train_labels),(test_data,test_labels)=imdb.load_data(num_words=10000)"
      ],
      "execution_count": 2,
      "outputs": []
    },
    {
      "cell_type": "markdown",
      "metadata": {
        "id": "q2p50V2tuahi"
      },
      "source": [
        "Inspecting first row of train data"
      ]
    },
    {
      "cell_type": "code",
      "metadata": {
        "id": "ccIAfgUCtrAG"
      },
      "source": [
        "train_data[0]"
      ],
      "execution_count": null,
      "outputs": []
    },
    {
      "cell_type": "markdown",
      "metadata": {
        "id": "WnTcJdG9ugzh"
      },
      "source": [
        "Encoding the input integer sequences into binary matrix"
      ]
    },
    {
      "cell_type": "code",
      "metadata": {
        "id": "4dZjp2vSt1Fo"
      },
      "source": [
        "import numpy as np\n",
        "def vectorize_rows(rows,dimension=10000):\n",
        "  results=np.zeros((len(rows),dimension),dtype='int')\n",
        "  for i,row in enumerate(rows):\n",
        "    results[i,row]=1\n",
        "  return results\n",
        "x_train=vectorize_rows(train_data)\n",
        "x_test=vectorize_rows(test_data)"
      ],
      "execution_count": 7,
      "outputs": []
    },
    {
      "cell_type": "markdown",
      "metadata": {
        "id": "98ry4-Q7wEl5"
      },
      "source": [
        "vectorizing the labels"
      ]
    },
    {
      "cell_type": "code",
      "metadata": {
        "id": "q938DkyHvflr"
      },
      "source": [
        "y_train=np.asarray(train_labels).astype('int')\n",
        "y_test=np.asarray(test_labels).astype('int')"
      ],
      "execution_count": 8,
      "outputs": []
    },
    {
      "cell_type": "markdown",
      "metadata": {
        "id": "Uf-_gosHwcjc"
      },
      "source": [
        "Building the model"
      ]
    },
    {
      "cell_type": "code",
      "metadata": {
        "id": "lHmn-xYPwX8s"
      },
      "source": [
        "from tensorflow.keras import models\n",
        "from tensorflow.keras import layers"
      ],
      "execution_count": 9,
      "outputs": []
    },
    {
      "cell_type": "code",
      "metadata": {
        "id": "h2moblACwlUW"
      },
      "source": [
        "model=models.Sequential()\n",
        "model.add(layers.Dense(16,activation='relu',input_shape=(10000,)))\n",
        "model.add(layers.Dense(16,activation='relu'))\n",
        "model.add(layers.Dense(1,activation='sigmoid'))"
      ],
      "execution_count": 10,
      "outputs": []
    },
    {
      "cell_type": "code",
      "metadata": {
        "id": "HYjJqk0bxIeo"
      },
      "source": [
        "model.compile(optimizer='rmsprop',loss='binary_crossentropy',metrics=['accuracy'])"
      ],
      "execution_count": 15,
      "outputs": []
    },
    {
      "cell_type": "markdown",
      "metadata": {
        "id": "RpOtt118xlJM"
      },
      "source": [
        "setting aside a validation set"
      ]
    },
    {
      "cell_type": "code",
      "metadata": {
        "id": "k6EvEdn4xi49"
      },
      "source": [
        "x_val=x_train[:5000]\n",
        "y_val=y_train[:5000]\n",
        "partial_x_train=x_train[5000:]\n",
        "partial_y_train=y_train[5000:]"
      ],
      "execution_count": 12,
      "outputs": []
    },
    {
      "cell_type": "markdown",
      "metadata": {
        "id": "EcWXPl_3yCBL"
      },
      "source": [
        "Training the model"
      ]
    },
    {
      "cell_type": "code",
      "metadata": {
        "colab": {
          "base_uri": "https://localhost:8080/"
        },
        "id": "GHt8oYKsx7Hv",
        "outputId": "47649940-efb8-45f4-9fa4-856af3f8b6c7"
      },
      "source": [
        "history=model.fit(partial_x_train,partial_y_train,epochs=20,batch_size=512,validation_data=(x_val,y_val))"
      ],
      "execution_count": 16,
      "outputs": [
        {
          "output_type": "stream",
          "text": [
            "Epoch 1/20\n",
            "40/40 [==============================] - 2s 49ms/step - loss: 0.4816 - accuracy: 0.8137 - val_loss: 0.3538 - val_accuracy: 0.8788\n",
            "Epoch 2/20\n",
            "40/40 [==============================] - 2s 44ms/step - loss: 0.2782 - accuracy: 0.9093 - val_loss: 0.2876 - val_accuracy: 0.8916\n",
            "Epoch 3/20\n",
            "40/40 [==============================] - 2s 44ms/step - loss: 0.2107 - accuracy: 0.9287 - val_loss: 0.2739 - val_accuracy: 0.8912\n",
            "Epoch 4/20\n",
            "40/40 [==============================] - 2s 44ms/step - loss: 0.1697 - accuracy: 0.9416 - val_loss: 0.2749 - val_accuracy: 0.8920\n",
            "Epoch 5/20\n",
            "40/40 [==============================] - 2s 44ms/step - loss: 0.1417 - accuracy: 0.9525 - val_loss: 0.3138 - val_accuracy: 0.8786\n",
            "Epoch 6/20\n",
            "40/40 [==============================] - 2s 45ms/step - loss: 0.1229 - accuracy: 0.9595 - val_loss: 0.3092 - val_accuracy: 0.8866\n",
            "Epoch 7/20\n",
            "40/40 [==============================] - 2s 44ms/step - loss: 0.1032 - accuracy: 0.9674 - val_loss: 0.3162 - val_accuracy: 0.8878\n",
            "Epoch 8/20\n",
            "40/40 [==============================] - 2s 43ms/step - loss: 0.0871 - accuracy: 0.9726 - val_loss: 0.3367 - val_accuracy: 0.8856\n",
            "Epoch 9/20\n",
            "40/40 [==============================] - 2s 43ms/step - loss: 0.0740 - accuracy: 0.9772 - val_loss: 0.3691 - val_accuracy: 0.8820\n",
            "Epoch 10/20\n",
            "40/40 [==============================] - 2s 44ms/step - loss: 0.0625 - accuracy: 0.9821 - val_loss: 0.3964 - val_accuracy: 0.8810\n",
            "Epoch 11/20\n",
            "40/40 [==============================] - 2s 44ms/step - loss: 0.0519 - accuracy: 0.9857 - val_loss: 0.4530 - val_accuracy: 0.8752\n",
            "Epoch 12/20\n",
            "40/40 [==============================] - 2s 44ms/step - loss: 0.0438 - accuracy: 0.9883 - val_loss: 0.4551 - val_accuracy: 0.8750\n",
            "Epoch 13/20\n",
            "40/40 [==============================] - 2s 44ms/step - loss: 0.0343 - accuracy: 0.9919 - val_loss: 0.5128 - val_accuracy: 0.8742\n",
            "Epoch 14/20\n",
            "40/40 [==============================] - 2s 44ms/step - loss: 0.0279 - accuracy: 0.9937 - val_loss: 0.5325 - val_accuracy: 0.8728\n",
            "Epoch 15/20\n",
            "40/40 [==============================] - 2s 44ms/step - loss: 0.0229 - accuracy: 0.9950 - val_loss: 0.6155 - val_accuracy: 0.8670\n",
            "Epoch 16/20\n",
            "40/40 [==============================] - 2s 45ms/step - loss: 0.0197 - accuracy: 0.9958 - val_loss: 0.6144 - val_accuracy: 0.8662\n",
            "Epoch 17/20\n",
            "40/40 [==============================] - 2s 44ms/step - loss: 0.0160 - accuracy: 0.9966 - val_loss: 0.6381 - val_accuracy: 0.8708\n",
            "Epoch 18/20\n",
            "40/40 [==============================] - 2s 44ms/step - loss: 0.0116 - accuracy: 0.9983 - val_loss: 0.6789 - val_accuracy: 0.8690\n",
            "Epoch 19/20\n",
            "40/40 [==============================] - 2s 44ms/step - loss: 0.0109 - accuracy: 0.9980 - val_loss: 0.7103 - val_accuracy: 0.8678\n",
            "Epoch 20/20\n",
            "40/40 [==============================] - 2s 43ms/step - loss: 0.0085 - accuracy: 0.9983 - val_loss: 0.7389 - val_accuracy: 0.8692\n"
          ],
          "name": "stdout"
        }
      ]
    },
    {
      "cell_type": "code",
      "metadata": {
        "colab": {
          "base_uri": "https://localhost:8080/"
        },
        "id": "mWhNZGqzyS9n",
        "outputId": "77d9b635-cf32-42bc-b22e-409fc4317117"
      },
      "source": [
        "history_dict=history.history\n",
        "history_dict.keys()"
      ],
      "execution_count": 17,
      "outputs": [
        {
          "output_type": "execute_result",
          "data": {
            "text/plain": [
              "dict_keys(['loss', 'accuracy', 'val_loss', 'val_accuracy'])"
            ]
          },
          "metadata": {
            "tags": []
          },
          "execution_count": 17
        }
      ]
    },
    {
      "cell_type": "markdown",
      "metadata": {
        "id": "3AZKNLEozLaB"
      },
      "source": [
        "Plotting accuracy and loss"
      ]
    },
    {
      "cell_type": "code",
      "metadata": {
        "colab": {
          "base_uri": "https://localhost:8080/",
          "height": 295
        },
        "id": "7DjVDYObzF5n",
        "outputId": "22082cb7-19a4-4c59-f8ab-3e6d0bdbbd7c"
      },
      "source": [
        "import matplotlib.pyplot as plt\n",
        "loss_values=history_dict['loss']\n",
        "val_loss_values=history_dict['val_loss']\n",
        "epochs=range(1,21)\n",
        "plt.plot(epochs,loss_values,'bo',label='Training loss')\n",
        "plt.plot(epochs,val_loss_values,'b',label='validation loss')\n",
        "plt.title(\"Training and Validation loss\")\n",
        "plt.xlabel('No of epochs')\n",
        "plt.ylabel(\"Loss\")\n",
        "plt.legend()\n",
        "plt.show()"
      ],
      "execution_count": 18,
      "outputs": [
        {
          "output_type": "display_data",
          "data": {
            "image/png": "[encoded data removed]",
            "text/plain": [
              "<Figure size 432x288 with 1 Axes>"
            ]
          },
          "metadata": {
            "tags": [],
            "needs_background": "light"
          }
        }
      ]
    },
    {
      "cell_type": "code",
      "metadata": {
        "colab": {
          "base_uri": "https://localhost:8080/",
          "height": 295
        },
        "id": "suTLJmNu0CRo",
        "outputId": "ec116e96-08e3-4221-9a5e-9cd6dcd03fe1"
      },
      "source": [
        "accuracy_values=history_dict['accuracy']\n",
        "val_accuracy_values=history_dict['val_accuracy']\n",
        "epochs=range(1,21)\n",
        "plt.plot(epochs,accuracy_values,'bo',label='Training accuracy')\n",
        "plt.plot(epochs,val_accuracy_values,'b',label='validation accuracy')\n",
        "plt.title(\"Training and Validation accuracy\")\n",
        "plt.xlabel('No of epochs')\n",
        "plt.ylabel(\"accuracy\")\n",
        "plt.legend()\n",
        "plt.show()"
      ],
      "execution_count": 19,
      "outputs": [
        {
          "output_type": "display_data",
          "data": {
            "image/png": "[encoded data removed]",
            "text/plain": [
              "<Figure size 432x288 with 1 Axes>"
            ]
          },
          "metadata": {
            "tags": [],
            "needs_background": "light"
          }
        }
      ]
    },
    {
      "cell_type": "markdown",
      "metadata": {
        "id": "7E2bNBGp017u"
      },
      "source": [
        "from above accuracy and loss plots we can observe that after 4 epochs we cant observe any improvement in our validation loss and accuracy\n",
        "\n",
        "lets train another model with 4 epochs"
      ]
    },
    {
      "cell_type": "code",
      "metadata": {
        "colab": {
          "base_uri": "https://localhost:8080/"
        },
        "id": "_SNw-kr00wCX",
        "outputId": "84755b40-c001-4e57-f526-29a663bb7561"
      },
      "source": [
        "model2=models.Sequential()\n",
        "model2.add(layers.Dense(16,activation='relu',input_shape=(10000,)))\n",
        "model2.add(layers.Dense(16,activation='relu'))\n",
        "model2.add(layers.Dense(1,activation='sigmoid'))\n",
        "model2.compile(optimizer='rmsprop',loss='binary_crossentropy',metrics=['accuracy'])\n",
        "history2=model2.fit(partial_x_train,partial_y_train,epochs=4,batch_size=512,validation_data=(x_val,y_val))"
      ],
      "execution_count": 21,
      "outputs": [
        {
          "output_type": "stream",
          "text": [
            "Epoch 1/4\n",
            "40/40 [==============================] - 2s 47ms/step - loss: 0.5339 - accuracy: 0.7709 - val_loss: 0.4089 - val_accuracy: 0.8538\n",
            "Epoch 2/4\n",
            "40/40 [==============================] - 2s 43ms/step - loss: 0.3111 - accuracy: 0.9005 - val_loss: 0.3091 - val_accuracy: 0.8800\n",
            "Epoch 3/4\n",
            "40/40 [==============================] - 2s 44ms/step - loss: 0.2217 - accuracy: 0.9249 - val_loss: 0.3179 - val_accuracy: 0.8740\n",
            "Epoch 4/4\n",
            "40/40 [==============================] - 2s 43ms/step - loss: 0.1759 - accuracy: 0.9395 - val_loss: 0.3273 - val_accuracy: 0.8738\n"
          ],
          "name": "stdout"
        }
      ]
    },
    {
      "cell_type": "markdown",
      "metadata": {
        "id": "FbvZT3FS1kHN"
      },
      "source": [
        "lets predict x_test using both model and model2"
      ]
    },
    {
      "cell_type": "code",
      "metadata": {
        "id": "gSwuv4RM1ZqY"
      },
      "source": [
        "y_pred=model.predict(x_test)\n",
        "y_pred2=model2.predict(x_test)"
      ],
      "execution_count": 23,
      "outputs": []
    },
    {
      "cell_type": "code",
      "metadata": {
        "id": "As2q0nux5NFS"
      },
      "source": [
        "y_pred_modified=y_pred>0.5\n",
        "y_pred2_modified=y_pred2>0.5"
      ],
      "execution_count": 31,
      "outputs": []
    },
    {
      "cell_type": "markdown",
      "metadata": {
        "id": "521n6J2g2h_7"
      },
      "source": [
        "confusion matrix and f1 score of both models"
      ]
    },
    {
      "cell_type": "code",
      "metadata": {
        "colab": {
          "base_uri": "https://localhost:8080/"
        },
        "id": "xMyc-I4t171i",
        "outputId": "79d680a3-98e3-42a6-9f38-0a5a452462da"
      },
      "source": [
        "from sklearn.metrics import confusion_matrix,f1_score\n",
        "print('confusion matrix and f1 score of first model\\n',confusion_matrix(y_test,y_pred_modified),'\\n',f1_score(y_test,y_pred_modified),'\\n\\n')\n",
        "print('confusion matrix and f1 score of second model'+'\\n',confusion_matrix(y_test,y_pred2_modified),'\\n',f1_score(y_test,y_pred2_modified))"
      ],
      "execution_count": 34,
      "outputs": [
        {
          "output_type": "stream",
          "text": [
            "confusion matrix and f1 score of first model\n",
            " [[10846  1654]\n",
            " [ 2130 10370]] \n",
            " 0.8457021693035394 \n",
            "\n",
            "\n",
            "confusion matrix and f1 score of second model\n",
            " [[ 9571  2929]\n",
            " [  577 11923]] \n",
            " 0.8718192453933898\n"
          ],
          "name": "stdout"
        }
      ]
    },
    {
      "cell_type": "markdown",
      "metadata": {
        "id": "7ZxU9j9_57TK"
      },
      "source": [
        "from above we can observe that second model performs better than first model"
      ]
    }
  ]
}